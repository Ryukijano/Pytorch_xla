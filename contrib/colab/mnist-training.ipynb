{
  "cells": [
    {
      "cell_type": "markdown",
      "metadata": {
        "id": "0WzFpOKDmURO"
      },
      "source": [
        "## PyTorch/TPU MNIST Demo\n",
        "\n",
        "This colab example corresponds to the implementation under [test_train_mp_mnist.py](https://github.com/pytorch/xla/blob/master/test/test_train_mp_mnist.py)."
      ]
    },
    {
      "cell_type": "markdown",
      "metadata": {
        "id": "xOp9jBEumdvC"
      },
      "source": [
        "<h3>  &nbsp;&nbsp;Use Colab Cloud TPU&nbsp;&nbsp; <a href=\"https://cloud.google.com/tpu/\"><img valign=\"middle\" src=\"https://raw.githubusercontent.com/GoogleCloudPlatform/tensorflow-without-a-phd/master/tensorflow-rl-pong/images/tpu-hexagon.png\" width=\"50\"></a></h3>\n",
        "\n",
        "* On the main menu, click Runtime and select **Change runtime type**. Set \"TPU\" as the hardware accelerator.\n",
        "* The cell below makes sure you have access to a TPU on Colab.\n"
      ]
    },
    {
      "cell_type": "code",
      "execution_count": 1,
      "metadata": {
        "id": "Hx4YVNHametU"
      },
      "outputs": [],
      "source": [
        "import os\n",
        "assert os.environ['COLAB_TPU_ADDR'], 'Make sure to select TPU from Edit > Notebook settings > Hardware accelerator'"
      ]
    },
    {
      "cell_type": "markdown",
      "metadata": {
        "id": "YofXQrnxmf5r"
      },
      "source": [
        "### [RUNME] Install Colab TPU compatible PyTorch/TPU wheels and dependencies"
      ]
    },
    {
      "cell_type": "code",
      "execution_count": 2,
      "metadata": {
        "id": "OApBOAe1fpH_",
        "outputId": "0a537f84-a87a-44b6-cce2-6273af0b020e",
        "colab": {
          "base_uri": "https://localhost:8080/"
        }
      },
      "outputs": [
        {
          "output_type": "stream",
          "name": "stdout",
          "text": [
            "Looking in indexes: https://pypi.org/simple, https://us-python.pkg.dev/colab-wheels/public/simple/\n",
            "Collecting torch-xla==2.0\n",
            "  Downloading https://storage.googleapis.com/tpu-pytorch/wheels/colab/torch_xla-2.0-cp39-cp39-linux_x86_64.whl (115.7 MB)\n",
            "\u001b[2K     \u001b[90m━━━━━━━━━━━━━━━━━━━━━━━━━━━━━━━━━━━━━━━\u001b[0m \u001b[32m115.7/115.7 MB\u001b[0m \u001b[31m4.0 MB/s\u001b[0m eta \u001b[36m0:00:00\u001b[0m\n",
            "\u001b[?25hCollecting cloud-tpu-client==0.10\n",
            "  Downloading cloud_tpu_client-0.10-py3-none-any.whl (7.4 kB)\n",
            "Requirement already satisfied: torch==2.0.0 in /usr/local/lib/python3.9/dist-packages (2.0.0+cu118)\n",
            "Requirement already satisfied: torchvision==0.15.1 in /usr/local/lib/python3.9/dist-packages (0.15.1+cu118)\n",
            "Requirement already satisfied: oauth2client in /usr/local/lib/python3.9/dist-packages (from cloud-tpu-client==0.10) (4.1.3)\n",
            "Collecting google-api-python-client==1.8.0\n",
            "  Downloading google_api_python_client-1.8.0-py3-none-any.whl (57 kB)\n",
            "\u001b[2K     \u001b[90m━━━━━━━━━━━━━━━━━━━━━━━━━━━━━━━━━━━━━━━━\u001b[0m \u001b[32m57.7/57.7 kB\u001b[0m \u001b[31m3.7 MB/s\u001b[0m eta \u001b[36m0:00:00\u001b[0m\n",
            "\u001b[?25hRequirement already satisfied: typing-extensions in /usr/local/lib/python3.9/dist-packages (from torch==2.0.0) (4.5.0)\n",
            "Requirement already satisfied: jinja2 in /usr/local/lib/python3.9/dist-packages (from torch==2.0.0) (3.1.2)\n",
            "Requirement already satisfied: filelock in /usr/local/lib/python3.9/dist-packages (from torch==2.0.0) (3.11.0)\n",
            "Requirement already satisfied: sympy in /usr/local/lib/python3.9/dist-packages (from torch==2.0.0) (1.11.1)\n",
            "Requirement already satisfied: networkx in /usr/local/lib/python3.9/dist-packages (from torch==2.0.0) (3.1)\n",
            "Requirement already satisfied: triton==2.0.0 in /usr/local/lib/python3.9/dist-packages (from torch==2.0.0) (2.0.0)\n",
            "Requirement already satisfied: pillow!=8.3.*,>=5.3.0 in /usr/local/lib/python3.9/dist-packages (from torchvision==0.15.1) (8.4.0)\n",
            "Requirement already satisfied: requests in /usr/local/lib/python3.9/dist-packages (from torchvision==0.15.1) (2.27.1)\n",
            "Requirement already satisfied: numpy in /usr/local/lib/python3.9/dist-packages (from torchvision==0.15.1) (1.24.2)\n",
            "Requirement already satisfied: six<2dev,>=1.6.1 in /usr/local/lib/python3.9/dist-packages (from google-api-python-client==1.8.0->cloud-tpu-client==0.10) (1.16.0)\n",
            "Collecting uritemplate<4dev,>=3.0.0\n",
            "  Downloading uritemplate-3.0.1-py2.py3-none-any.whl (15 kB)\n",
            "Requirement already satisfied: httplib2<1dev,>=0.9.2 in /usr/local/lib/python3.9/dist-packages (from google-api-python-client==1.8.0->cloud-tpu-client==0.10) (0.21.0)\n",
            "Requirement already satisfied: google-auth>=1.4.1 in /usr/local/lib/python3.9/dist-packages (from google-api-python-client==1.8.0->cloud-tpu-client==0.10) (2.17.2)\n",
            "Collecting google-api-core<2dev,>=1.13.0\n",
            "  Downloading google_api_core-1.34.0-py3-none-any.whl (120 kB)\n",
            "\u001b[2K     \u001b[90m━━━━━━━━━━━━━━━━━━━━━━━━━━━━━━━━━━━━━━━\u001b[0m \u001b[32m120.2/120.2 kB\u001b[0m \u001b[31m7.7 MB/s\u001b[0m eta \u001b[36m0:00:00\u001b[0m\n",
            "\u001b[?25hRequirement already satisfied: google-auth-httplib2>=0.0.3 in /usr/local/lib/python3.9/dist-packages (from google-api-python-client==1.8.0->cloud-tpu-client==0.10) (0.1.0)\n",
            "Requirement already satisfied: lit in /usr/local/lib/python3.9/dist-packages (from triton==2.0.0->torch==2.0.0) (16.0.1)\n",
            "Requirement already satisfied: cmake in /usr/local/lib/python3.9/dist-packages (from triton==2.0.0->torch==2.0.0) (3.25.2)\n",
            "Requirement already satisfied: absl-py>=1.0.0 in /usr/local/lib/python3.9/dist-packages (from torch-xla==2.0) (1.4.0)\n",
            "Requirement already satisfied: MarkupSafe>=2.0 in /usr/local/lib/python3.9/dist-packages (from jinja2->torch==2.0.0) (2.1.2)\n",
            "Requirement already satisfied: rsa>=3.1.4 in /usr/local/lib/python3.9/dist-packages (from oauth2client->cloud-tpu-client==0.10) (4.9)\n",
            "Requirement already satisfied: pyasn1-modules>=0.0.5 in /usr/local/lib/python3.9/dist-packages (from oauth2client->cloud-tpu-client==0.10) (0.2.8)\n",
            "Requirement already satisfied: pyasn1>=0.1.7 in /usr/local/lib/python3.9/dist-packages (from oauth2client->cloud-tpu-client==0.10) (0.4.8)\n",
            "Requirement already satisfied: charset-normalizer~=2.0.0 in /usr/local/lib/python3.9/dist-packages (from requests->torchvision==0.15.1) (2.0.12)\n",
            "Requirement already satisfied: certifi>=2017.4.17 in /usr/local/lib/python3.9/dist-packages (from requests->torchvision==0.15.1) (2022.12.7)\n",
            "Requirement already satisfied: idna<4,>=2.5 in /usr/local/lib/python3.9/dist-packages (from requests->torchvision==0.15.1) (3.4)\n",
            "Requirement already satisfied: urllib3<1.27,>=1.21.1 in /usr/local/lib/python3.9/dist-packages (from requests->torchvision==0.15.1) (1.26.15)\n",
            "Requirement already satisfied: mpmath>=0.19 in /usr/local/lib/python3.9/dist-packages (from sympy->torch==2.0.0) (1.3.0)\n",
            "Requirement already satisfied: protobuf!=3.20.0,!=3.20.1,!=4.21.0,!=4.21.1,!=4.21.2,!=4.21.3,!=4.21.4,!=4.21.5,<4.0.0dev,>=3.19.5 in /usr/local/lib/python3.9/dist-packages (from google-api-core<2dev,>=1.13.0->google-api-python-client==1.8.0->cloud-tpu-client==0.10) (3.20.3)\n",
            "Requirement already satisfied: googleapis-common-protos<2.0dev,>=1.56.2 in /usr/local/lib/python3.9/dist-packages (from google-api-core<2dev,>=1.13.0->google-api-python-client==1.8.0->cloud-tpu-client==0.10) (1.59.0)\n",
            "Requirement already satisfied: cachetools<6.0,>=2.0.0 in /usr/local/lib/python3.9/dist-packages (from google-auth>=1.4.1->google-api-python-client==1.8.0->cloud-tpu-client==0.10) (5.3.0)\n",
            "Requirement already satisfied: pyparsing!=3.0.0,!=3.0.1,!=3.0.2,!=3.0.3,<4,>=2.4.2 in /usr/local/lib/python3.9/dist-packages (from httplib2<1dev,>=0.9.2->google-api-python-client==1.8.0->cloud-tpu-client==0.10) (3.0.9)\n",
            "Installing collected packages: uritemplate, google-api-core, google-api-python-client, cloud-tpu-client, torch-xla\n",
            "  Attempting uninstall: uritemplate\n",
            "    Found existing installation: uritemplate 4.1.1\n",
            "    Uninstalling uritemplate-4.1.1:\n",
            "      Successfully uninstalled uritemplate-4.1.1\n",
            "  Attempting uninstall: google-api-core\n",
            "    Found existing installation: google-api-core 2.11.0\n",
            "    Uninstalling google-api-core-2.11.0:\n",
            "      Successfully uninstalled google-api-core-2.11.0\n",
            "  Attempting uninstall: google-api-python-client\n",
            "    Found existing installation: google-api-python-client 2.84.0\n",
            "    Uninstalling google-api-python-client-2.84.0:\n",
            "      Successfully uninstalled google-api-python-client-2.84.0\n",
            "\u001b[31mERROR: pip's dependency resolver does not currently take into account all the packages that are installed. This behaviour is the source of the following dependency conflicts.\n",
            "earthengine-api 0.1.348 requires google-api-python-client>=1.12.1, but you have google-api-python-client 1.8.0 which is incompatible.\u001b[0m\u001b[31m\n",
            "\u001b[0mSuccessfully installed cloud-tpu-client-0.10 google-api-core-1.34.0 google-api-python-client-1.8.0 torch-xla-2.0 uritemplate-3.0.1\n"
          ]
        }
      ],
      "source": [
        "!pip install cloud-tpu-client==0.10 torch==2.0.0 torchvision==0.15.1 https://storage.googleapis.com/tpu-pytorch/wheels/colab/torch_xla-2.0-cp39-cp39-linux_x86_64.whl"
      ]
    },
    {
      "cell_type": "markdown",
      "metadata": {
        "id": "nfSCdVlA8jFg"
      },
      "source": [
        "### If you're using GPU with this colab notebook, run the below commented code to install GPU compatible PyTorch wheel and dependencies"
      ]
    },
    {
      "cell_type": "code",
      "execution_count": null,
      "metadata": {
        "id": "J1Vfg-rH8bF4"
      },
      "outputs": [],
      "source": [
        "#!pip install cloud-tpu-client==0.10 torch==2.0.0 torchvision==0.15.1 https://storage.googleapis.com/tpu-pytorch/wheels/cuda/117/torch_xla-2.0-cp39-cp39-linux_x86_64.whl --force-reinstall "
      ]
    },
    {
      "cell_type": "markdown",
      "metadata": {
        "id": "cPrij_iPfqTV"
      },
      "source": [
        "### Only run the below commented cell if you would like a nightly release"
      ]
    },
    {
      "cell_type": "code",
      "execution_count": null,
      "metadata": {
        "id": "vJZrkoejQhxK"
      },
      "outputs": [],
      "source": [
        "# VERSION = \"1.13\"  #@param [\"1.13\", \"nightly\", \"20220315\"]  # or YYYYMMDD format\n",
        "# !curl https://raw.githubusercontent.com/pytorch/xla/master/contrib/scripts/env-setup.py -o pytorch-xla-env-setup.py\n",
        "# !python pytorch-xla-env-setup.py --version $VERSION\n",
        "# import os \n",
        "# os.environ['LD_LIBRARY_PATH']='/usr/local/lib'\n",
        "# !echo $LD_LIBRARY_PATH\n",
        "\n",
        "# !sudo ln -s /usr/local/lib/libmkl_intel_lp64.so /usr/local/lib/libmkl_intel_lp64.so.1\n",
        "# !sudo ln -s /usr/local/lib/libmkl_intel_thread.so /usr/local/lib/libmkl_intel_thread.so.1\n",
        "# !sudo ln -s /usr/local/lib/libmkl_core.so /usr/local/lib/libmkl_core.so.1\n",
        "\n",
        "# !ldconfig\n",
        "# !ldd /usr/local/lib/python3.7/dist-packages/torch/lib/libtorch.so"
      ]
    },
    {
      "cell_type": "markdown",
      "metadata": {
        "id": "OHpYeQrOLcmZ"
      },
      "source": [
        "### Define Parameters and Helpers, and start Training\n"
      ]
    },
    {
      "cell_type": "code",
      "execution_count": 3,
      "metadata": {
        "id": "LNLegt4jLkRD"
      },
      "outputs": [],
      "source": [
        "# Result Visualization Helper\n",
        "import math\n",
        "from matplotlib import pyplot as plt\n",
        "\n",
        "M, N = 4, 6\n",
        "RESULT_IMG_PATH = '/tmp/test_result.png'\n",
        "\n",
        "def plot_results(images, labels, preds):\n",
        "  images, labels, preds = images[:M*N], labels[:M*N], preds[:M*N]\n",
        "  inv_norm = transforms.Normalize((-0.1307/0.3081,), (1/0.3081,))\n",
        "\n",
        "  num_images = images.shape[0]\n",
        "  fig, axes = plt.subplots(M, N, figsize=(11, 9))\n",
        "  fig.suptitle('Correct / Predicted Labels (Red text for incorrect ones)')\n",
        "\n",
        "  for i, ax in enumerate(fig.axes):\n",
        "    ax.axis('off')\n",
        "    if i >= num_images:\n",
        "      continue\n",
        "    img, label, prediction = images[i], labels[i], preds[i]\n",
        "    img = inv_norm(img)\n",
        "    img = img.squeeze() # [1,Y,X] -> [Y,X]\n",
        "    label, prediction = label.item(), prediction.item()\n",
        "    if label == prediction:\n",
        "      ax.set_title(u'\\u2713', color='blue', fontsize=22)\n",
        "    else:\n",
        "      ax.set_title(\n",
        "          'X {}/{}'.format(label, prediction), color='red')\n",
        "    ax.imshow(img)\n",
        "  plt.savefig(RESULT_IMG_PATH, transparent=True)"
      ]
    },
    {
      "cell_type": "code",
      "execution_count": 5,
      "metadata": {
        "id": "kNh-oEmHmorI"
      },
      "outputs": [],
      "source": [
        "# Define Parameters\n",
        "FLAGS = {}\n",
        "FLAGS['datadir'] = \"/tmp/mnist\"\n",
        "FLAGS['batch_size'] = 128\n",
        "FLAGS['num_workers'] = 4\n",
        "FLAGS['learning_rate'] = 0.01\n",
        "FLAGS['momentum'] = 0.5\n",
        "FLAGS['num_epochs'] = 10\n",
        "FLAGS['num_cores'] = 8\n",
        "FLAGS['log_steps'] = 20\n",
        "FLAGS['metrics_debug'] = False"
      ]
    },
    {
      "cell_type": "code",
      "execution_count": 6,
      "metadata": {
        "id": "pTmxZL5ymp8P"
      },
      "outputs": [],
      "source": [
        "import numpy as np\n",
        "import os\n",
        "import time\n",
        "import torch\n",
        "import torch.nn as nn\n",
        "import torch.nn.functional as F\n",
        "import torch.optim as optim\n",
        "import torch_xla\n",
        "import torch_xla.core.xla_model as xm\n",
        "import torch_xla.debug.metrics as met\n",
        "import torch_xla.distributed.parallel_loader as pl\n",
        "import torch_xla.distributed.xla_multiprocessing as xmp\n",
        "import torch_xla.utils.utils as xu\n",
        "from torchvision import datasets, transforms\n",
        "\n",
        "\n",
        "SERIAL_EXEC = xmp.MpSerialExecutor()\n",
        "\n",
        "class MNIST(nn.Module):\n",
        "\n",
        "  def __init__(self):\n",
        "    super(MNIST, self).__init__()\n",
        "    self.conv1 = nn.Conv2d(1, 10, kernel_size=5)\n",
        "    self.bn1 = nn.BatchNorm2d(10)\n",
        "    self.conv2 = nn.Conv2d(10, 20, kernel_size=5)\n",
        "    self.bn2 = nn.BatchNorm2d(20)\n",
        "    self.fc1 = nn.Linear(320, 50)\n",
        "    self.fc2 = nn.Linear(50, 10)\n",
        "\n",
        "  def forward(self, x):\n",
        "    x = F.relu(F.max_pool2d(self.conv1(x), 2))\n",
        "    x = self.bn1(x)\n",
        "    x = F.relu(F.max_pool2d(self.conv2(x), 2))\n",
        "    x = self.bn2(x)\n",
        "    x = torch.flatten(x, 1)\n",
        "    x = F.relu(self.fc1(x))\n",
        "    x = self.fc2(x)\n",
        "    return F.log_softmax(x, dim=1)\n",
        "\n",
        "# Only instantiate model weights once in memory.\n",
        "WRAPPED_MODEL = xmp.MpModelWrapper(MNIST())\n",
        "\n",
        "def train_mnist():\n",
        "  torch.manual_seed(1)\n",
        "  \n",
        "  def get_dataset():\n",
        "    norm = transforms.Normalize((0.1307,), (0.3081,))\n",
        "    train_dataset = datasets.MNIST(\n",
        "        FLAGS['datadir'],\n",
        "        train=True,\n",
        "        download=True,\n",
        "        transform=transforms.Compose(\n",
        "            [transforms.ToTensor(), norm]))\n",
        "    test_dataset = datasets.MNIST(\n",
        "        FLAGS['datadir'],\n",
        "        train=False,\n",
        "        download=True,\n",
        "        transform=transforms.Compose(\n",
        "            [transforms.ToTensor(), norm]))\n",
        "    \n",
        "    return train_dataset, test_dataset\n",
        "  \n",
        "  # Using the serial executor avoids multiple processes to\n",
        "  # download the same data.\n",
        "  train_dataset, test_dataset = SERIAL_EXEC.run(get_dataset)\n",
        "\n",
        "  train_sampler = torch.utils.data.distributed.DistributedSampler(\n",
        "    train_dataset,\n",
        "    num_replicas=xm.xrt_world_size(),\n",
        "    rank=xm.get_ordinal(),\n",
        "    shuffle=True)\n",
        "  train_loader = torch.utils.data.DataLoader(\n",
        "      train_dataset,\n",
        "      batch_size=FLAGS['batch_size'],\n",
        "      sampler=train_sampler,\n",
        "      num_workers=FLAGS['num_workers'],\n",
        "      drop_last=True)\n",
        "  test_loader = torch.utils.data.DataLoader(\n",
        "      test_dataset,\n",
        "      batch_size=FLAGS['batch_size'],\n",
        "      shuffle=False,\n",
        "      num_workers=FLAGS['num_workers'],\n",
        "      drop_last=True)\n",
        "\n",
        "  # Scale learning rate to world size\n",
        "  lr = FLAGS['learning_rate'] * xm.xrt_world_size()\n",
        "\n",
        "  # Get loss function, optimizer, and model\n",
        "  device = xm.xla_device()\n",
        "  model = WRAPPED_MODEL.to(device)\n",
        "  optimizer = optim.SGD(model.parameters(), lr=lr, momentum=FLAGS['momentum'])\n",
        "  loss_fn = nn.NLLLoss()\n",
        "\n",
        "  def train_loop_fn(loader):\n",
        "    tracker = xm.RateTracker()\n",
        "    model.train()\n",
        "    for x, (data, target) in enumerate(loader):\n",
        "      optimizer.zero_grad()\n",
        "      output = model(data)\n",
        "      loss = loss_fn(output, target)\n",
        "      loss.backward()\n",
        "      xm.optimizer_step(optimizer)\n",
        "      tracker.add(FLAGS['batch_size'])\n",
        "      if x % FLAGS['log_steps'] == 0:\n",
        "        print('[xla:{}]({}) Loss={:.5f} Rate={:.2f} GlobalRate={:.2f} Time={}'.format(\n",
        "            xm.get_ordinal(), x, loss.item(), tracker.rate(),\n",
        "            tracker.global_rate(), time.asctime()), flush=True)\n",
        "\n",
        "  def test_loop_fn(loader):\n",
        "    total_samples = 0\n",
        "    correct = 0\n",
        "    model.eval()\n",
        "    data, pred, target = None, None, None\n",
        "    for data, target in loader:\n",
        "      output = model(data)\n",
        "      pred = output.max(1, keepdim=True)[1]\n",
        "      correct += pred.eq(target.view_as(pred)).sum().item()\n",
        "      total_samples += data.size()[0]\n",
        "\n",
        "    accuracy = 100.0 * correct / total_samples\n",
        "    print('[xla:{}] Accuracy={:.2f}%'.format(\n",
        "        xm.get_ordinal(), accuracy), flush=True)\n",
        "    return accuracy, data, pred, target\n",
        "\n",
        "  # Train and eval loops\n",
        "  accuracy = 0.0\n",
        "  data, pred, target = None, None, None\n",
        "  for epoch in range(1, FLAGS['num_epochs'] + 1):\n",
        "    para_loader = pl.ParallelLoader(train_loader, [device])\n",
        "    train_loop_fn(para_loader.per_device_loader(device))\n",
        "    xm.master_print(\"Finished training epoch {}\".format(epoch))\n",
        "\n",
        "    para_loader = pl.ParallelLoader(test_loader, [device])\n",
        "    accuracy, data, pred, target  = test_loop_fn(para_loader.per_device_loader(device))\n",
        "    if FLAGS['metrics_debug']:\n",
        "      xm.master_print(met.metrics_report(), flush=True)\n",
        "\n",
        "  return accuracy, data, pred, target"
      ]
    },
    {
      "cell_type": "code",
      "execution_count": 7,
      "metadata": {
        "colab": {
          "base_uri": "https://localhost:8080/"
        },
        "id": "Afwo4H7kSd8P",
        "outputId": "286e8ffe-0fe5-4336-abcf-e46fb80d7355"
      },
      "outputs": [
        {
          "output_type": "stream",
          "name": "stdout",
          "text": [
            "Downloading http://yann.lecun.com/exdb/mnist/train-images-idx3-ubyte.gz\n",
            "Downloading http://yann.lecun.com/exdb/mnist/train-images-idx3-ubyte.gz to /tmp/mnist/MNIST/raw/train-images-idx3-ubyte.gz\n"
          ]
        },
        {
          "output_type": "stream",
          "name": "stderr",
          "text": [
            "100%|██████████| 9912422/9912422 [00:00<00:00, 80591357.43it/s]\n"
          ]
        },
        {
          "output_type": "stream",
          "name": "stdout",
          "text": [
            "Extracting /tmp/mnist/MNIST/raw/train-images-idx3-ubyte.gz to /tmp/mnist/MNIST/raw\n",
            "\n",
            "Downloading http://yann.lecun.com/exdb/mnist/train-labels-idx1-ubyte.gz\n",
            "Downloading http://yann.lecun.com/exdb/mnist/train-labels-idx1-ubyte.gz to /tmp/mnist/MNIST/raw/train-labels-idx1-ubyte.gz\n"
          ]
        },
        {
          "output_type": "stream",
          "name": "stderr",
          "text": [
            "100%|██████████| 28881/28881 [00:00<00:00, 93613364.62it/s]\n"
          ]
        },
        {
          "output_type": "stream",
          "name": "stdout",
          "text": [
            "Extracting /tmp/mnist/MNIST/raw/train-labels-idx1-ubyte.gz to /tmp/mnist/MNIST/raw\n",
            "\n",
            "Downloading http://yann.lecun.com/exdb/mnist/t10k-images-idx3-ubyte.gz\n",
            "Downloading http://yann.lecun.com/exdb/mnist/t10k-images-idx3-ubyte.gz to /tmp/mnist/MNIST/raw/t10k-images-idx3-ubyte.gz\n"
          ]
        },
        {
          "output_type": "stream",
          "name": "stderr",
          "text": [
            "100%|██████████| 1648877/1648877 [00:00<00:00, 26982737.16it/s]\n"
          ]
        },
        {
          "output_type": "stream",
          "name": "stdout",
          "text": [
            "Extracting /tmp/mnist/MNIST/raw/t10k-images-idx3-ubyte.gz to /tmp/mnist/MNIST/raw\n",
            "\n",
            "Downloading http://yann.lecun.com/exdb/mnist/t10k-labels-idx1-ubyte.gz\n",
            "Downloading http://yann.lecun.com/exdb/mnist/t10k-labels-idx1-ubyte.gz to /tmp/mnist/MNIST/raw/t10k-labels-idx1-ubyte.gz\n"
          ]
        },
        {
          "output_type": "stream",
          "name": "stderr",
          "text": [
            "100%|██████████| 4542/4542 [00:00<00:00, 15350949.85it/s]\n"
          ]
        },
        {
          "output_type": "stream",
          "name": "stdout",
          "text": [
            "Extracting /tmp/mnist/MNIST/raw/t10k-labels-idx1-ubyte.gz to /tmp/mnist/MNIST/raw\n",
            "\n"
          ]
        },
        {
          "output_type": "stream",
          "name": "stderr",
          "text": [
            "/usr/local/lib/python3.9/dist-packages/torch/utils/data/dataloader.py:561: UserWarning: This DataLoader will create 4 worker processes in total. Our suggested max number of worker in current system is 2, which is smaller than what this DataLoader is going to create. Please be aware that excessive worker creation might get DataLoader running slow or even freeze, lower the worker number to avoid potential slowness/freeze if necessary.\n",
            "  warnings.warn(_create_warning_msg(\n",
            "/usr/local/lib/python3.9/dist-packages/torch/utils/data/dataloader.py:561: UserWarning: This DataLoader will create 4 worker processes in total. Our suggested max number of worker in current system is 2, which is smaller than what this DataLoader is going to create. Please be aware that excessive worker creation might get DataLoader running slow or even freeze, lower the worker number to avoid potential slowness/freeze if necessary.\n",
            "  warnings.warn(_create_warning_msg(\n",
            "/usr/local/lib/python3.9/dist-packages/torch/utils/data/dataloader.py:561: UserWarning: This DataLoader will create 4 worker processes in total. Our suggested max number of worker in current system is 2, which is smaller than what this DataLoader is going to create. Please be aware that excessive worker creation might get DataLoader running slow or even freeze, lower the worker number to avoid potential slowness/freeze if necessary.\n",
            "  warnings.warn(_create_warning_msg(\n"
          ]
        },
        {
          "output_type": "stream",
          "name": "stdout",
          "text": [
            "[xla:0](0) Loss=2.31274 Rate=115.80 GlobalRate=115.80 Time=Wed Apr 12 20:26:53 2023\n",
            "[xla:4](0) Loss=2.30413 Rate=122.90 GlobalRate=122.90 Time=Wed Apr 12 20:26:53 2023\n",
            "[xla:3](0) Loss=2.29716 Rate=100.73 GlobalRate=100.72 Time=Wed Apr 12 20:26:54 2023\n"
          ]
        },
        {
          "output_type": "stream",
          "name": "stderr",
          "text": [
            "/usr/local/lib/python3.9/dist-packages/torch/utils/data/dataloader.py:561: UserWarning: This DataLoader will create 4 worker processes in total. Our suggested max number of worker in current system is 2, which is smaller than what this DataLoader is going to create. Please be aware that excessive worker creation might get DataLoader running slow or even freeze, lower the worker number to avoid potential slowness/freeze if necessary.\n",
            "  warnings.warn(_create_warning_msg(\n"
          ]
        },
        {
          "output_type": "stream",
          "name": "stdout",
          "text": [
            "[xla:2](0) Loss=2.30267 Rate=247.07 GlobalRate=247.07 Time=Wed Apr 12 20:26:59 2023\n"
          ]
        },
        {
          "output_type": "stream",
          "name": "stderr",
          "text": [
            "/usr/local/lib/python3.9/dist-packages/torch/utils/data/dataloader.py:561: UserWarning: This DataLoader will create 4 worker processes in total. Our suggested max number of worker in current system is 2, which is smaller than what this DataLoader is going to create. Please be aware that excessive worker creation might get DataLoader running slow or even freeze, lower the worker number to avoid potential slowness/freeze if necessary.\n",
            "  warnings.warn(_create_warning_msg(\n"
          ]
        },
        {
          "output_type": "stream",
          "name": "stdout",
          "text": [
            "[xla:6](0) Loss=2.32974 Rate=204.92 GlobalRate=204.91 Time=Wed Apr 12 20:27:00 2023\n"
          ]
        },
        {
          "output_type": "stream",
          "name": "stderr",
          "text": [
            "/usr/local/lib/python3.9/dist-packages/torch/utils/data/dataloader.py:561: UserWarning: This DataLoader will create 4 worker processes in total. Our suggested max number of worker in current system is 2, which is smaller than what this DataLoader is going to create. Please be aware that excessive worker creation might get DataLoader running slow or even freeze, lower the worker number to avoid potential slowness/freeze if necessary.\n",
            "  warnings.warn(_create_warning_msg(\n"
          ]
        },
        {
          "output_type": "stream",
          "name": "stdout",
          "text": [
            "[xla:1](0) Loss=2.33618 Rate=157.24 GlobalRate=157.24 Time=Wed Apr 12 20:27:02 2023\n"
          ]
        },
        {
          "output_type": "stream",
          "name": "stderr",
          "text": [
            "/usr/local/lib/python3.9/dist-packages/torch/utils/data/dataloader.py:561: UserWarning: This DataLoader will create 4 worker processes in total. Our suggested max number of worker in current system is 2, which is smaller than what this DataLoader is going to create. Please be aware that excessive worker creation might get DataLoader running slow or even freeze, lower the worker number to avoid potential slowness/freeze if necessary.\n",
            "  warnings.warn(_create_warning_msg(\n",
            "/usr/local/lib/python3.9/dist-packages/torch/utils/data/dataloader.py:561: UserWarning: This DataLoader will create 4 worker processes in total. Our suggested max number of worker in current system is 2, which is smaller than what this DataLoader is going to create. Please be aware that excessive worker creation might get DataLoader running slow or even freeze, lower the worker number to avoid potential slowness/freeze if necessary.\n",
            "  warnings.warn(_create_warning_msg(\n"
          ]
        },
        {
          "output_type": "stream",
          "name": "stdout",
          "text": [
            "[xla:7](0) Loss=2.29210 Rate=118.18 GlobalRate=118.18 Time=Wed Apr 12 20:27:04 2023\n",
            "[xla:5](0) Loss=2.33639 Rate=91.32 GlobalRate=91.32 Time=Wed Apr 12 20:27:05 2023\n",
            "[xla:3](20) Loss=0.36110 Rate=131.78 GlobalRate=148.83 Time=Wed Apr 12 20:27:11 2023[xla:1](20) Loss=0.31914 Rate=230.87 GlobalRate=269.92 Time=Wed Apr 12 20:27:11 2023[xla:6](20) Loss=0.24920 Rate=219.42 GlobalRate=227.80 Time=Wed Apr 12 20:27:11 2023[xla:0](20) Loss=0.40199 Rate=131.08 GlobalRate=139.80 Time=Wed Apr 12 20:27:11 2023[xla:4](20) Loss=0.36814 Rate=135.20 GlobalRate=142.27 Time=Wed Apr 12 20:27:11 2023[xla:2](20) Loss=0.37256 Rate=223.60 GlobalRate=209.52 Time=Wed Apr 12 20:27:11 2023[xla:5](20) Loss=0.37446 Rate=290.74 GlobalRate=361.10 Time=Wed Apr 12 20:27:11 2023\n",
            "\n",
            "\n",
            "\n",
            "\n",
            "\n",
            "\n",
            "[xla:7](20) Loss=0.33520 Rate=251.07 GlobalRate=311.83 Time=Wed Apr 12 20:27:11 2023\n",
            "[xla:3](40) Loss=0.23329 Rate=415.78 GlobalRate=235.43 Time=Wed Apr 12 20:27:15 2023[xla:2](40) Loss=0.18678 Rate=452.50 GlobalRate=307.62 Time=Wed Apr 12 20:27:15 2023[xla:1](40) Loss=0.16162 Rate=455.74 GlobalRate=369.96 Time=Wed Apr 12 20:27:15 2023[xla:0](40) Loss=0.23041 Rate=415.99 GlobalRate=223.77 Time=Wed Apr 12 20:27:15 2023[xla:5](40) Loss=0.14090 Rate=480.19 GlobalRate=449.90 Time=Wed Apr 12 20:27:15 2023[xla:4](40) Loss=0.12224 Rate=416.93 GlobalRate=226.93 Time=Wed Apr 12 20:27:15 2023[xla:6](40) Loss=0.20273 Rate=450.87 GlobalRate=327.39 Time=Wed Apr 12 20:27:15 2023\n",
            "\n",
            "\n",
            "\n",
            "\n",
            "\n",
            "\n",
            "[xla:7](40) Loss=0.17401 Rate=464.71 GlobalRate=408.84 Time=Wed Apr 12 20:27:15 2023\n",
            "Finished training epoch 1\n",
            "[xla:6] Accuracy=96.80%\n",
            "[xla:2] Accuracy=96.84%\n",
            "[xla:1] Accuracy=96.80%\n",
            "[xla:5] Accuracy=96.82%[xla:4] Accuracy=96.82%\n",
            "\n",
            "[xla:7] Accuracy=96.82%\n",
            "[xla:0] Accuracy=96.83%\n",
            "[xla:3] Accuracy=96.84%\n",
            "[xla:6](0) Loss=0.17384 Rate=75.79 GlobalRate=75.79 Time=Wed Apr 12 20:27:51 2023\n",
            "[xla:2](0) Loss=0.14961 Rate=74.11 GlobalRate=74.11 Time=Wed Apr 12 20:27:51 2023\n",
            "[xla:3](0) Loss=0.10753 Rate=59.98 GlobalRate=59.98 Time=Wed Apr 12 20:27:52 2023\n",
            "[xla:1](0) Loss=0.17510 Rate=54.09 GlobalRate=54.09 Time=Wed Apr 12 20:27:52 2023[xla:5](0) Loss=0.14780 Rate=54.01 GlobalRate=54.01 Time=Wed Apr 12 20:27:52 2023\n",
            "\n",
            "[xla:4](0) Loss=0.09977 Rate=51.15 GlobalRate=51.15 Time=Wed Apr 12 20:27:52 2023\n",
            "[xla:7](0) Loss=0.17748 Rate=49.67 GlobalRate=49.67 Time=Wed Apr 12 20:27:52 2023\n",
            "[xla:0](0) Loss=0.14598 Rate=47.26 GlobalRate=47.26 Time=Wed Apr 12 20:27:53 2023\n",
            "[xla:6](20) Loss=0.04988 Rate=241.71 GlobalRate=300.17 Time=Wed Apr 12 20:27:58 2023[xla:2](20) Loss=0.15196 Rate=247.71 GlobalRate=306.47 Time=Wed Apr 12 20:27:58 2023\n",
            "\n",
            "[xla:1](20) Loss=0.08468 Rate=256.83 GlobalRate=302.12 Time=Wed Apr 12 20:27:59 2023\n",
            "[xla:3](20) Loss=0.16624 Rate=245.80 GlobalRate=296.72 Time=Wed Apr 12 20:27:59 2023\n",
            "[xla:4](20) Loss=0.12030 Rate=246.35 GlobalRate=288.96 Time=Wed Apr 12 20:27:59 2023[xla:5](20) Loss=0.13441 Rate=241.47 GlobalRate=287.31 Time=Wed Apr 12 20:27:59 2023\n",
            "\n",
            "[xla:7](20) Loss=0.15148 Rate=242.15 GlobalRate=283.33 Time=Wed Apr 12 20:27:59 2023\n",
            "[xla:0](20) Loss=0.15214 Rate=242.81 GlobalRate=280.92 Time=Wed Apr 12 20:27:59 2023\n",
            "[xla:2](40) Loss=0.08428 Rate=253.59 GlobalRate=280.46 Time=Wed Apr 12 20:28:08 2023[xla:6](40) Loss=0.07729 Rate=250.99 GlobalRate=277.53 Time=Wed Apr 12 20:28:08 2023[xla:1](40) Loss=0.08497 Rate=262.66 GlobalRate=283.65 Time=Wed Apr 12 20:28:08 2023\n",
            "\n",
            "\n",
            "[xla:4](40) Loss=0.04760 Rate=261.06 GlobalRate=279.85 Time=Wed Apr 12 20:28:09 2023\n",
            "[xla:5](40) Loss=0.05302 Rate=258.35 GlobalRate=278.39 Time=Wed Apr 12 20:28:09 2023\n",
            "[xla:3](40) Loss=0.13905 Rate=256.51 GlobalRate=279.61 Time=Wed Apr 12 20:28:09 2023[xla:0](40) Loss=0.14964 Rate=262.87 GlobalRate=278.62 Time=Wed Apr 12 20:28:09 2023\n",
            "\n",
            "[xla:7](40) Loss=0.07141 Rate=255.62 GlobalRate=273.87 Time=Wed Apr 12 20:28:09 2023\n",
            "Finished training epoch 2\n",
            "[xla:2] Accuracy=97.84%[xla:3] Accuracy=97.83%\n",
            "\n",
            "[xla:6] Accuracy=97.83%\n",
            "[xla:5] Accuracy=97.83%\n",
            "[xla:4] Accuracy=97.81%[xla:7] Accuracy=97.81%\n",
            "\n",
            "[xla:0] Accuracy=97.81%[xla:1] Accuracy=97.80%\n",
            "\n",
            "[xla:2](0) Loss=0.11200 Rate=42.27 GlobalRate=42.27 Time=Wed Apr 12 20:28:45 2023\n",
            "[xla:6](0) Loss=0.10161 Rate=37.96 GlobalRate=37.96 Time=Wed Apr 12 20:28:45 2023[xla:3](0) Loss=0.06654 Rate=38.01 GlobalRate=38.01 Time=Wed Apr 12 20:28:45 2023[xla:5](0) Loss=0.07917 Rate=38.47 GlobalRate=38.47 Time=Wed Apr 12 20:28:45 2023\n",
            "\n",
            "\n",
            "[xla:7](0) Loss=0.12072 Rate=36.67 GlobalRate=36.67 Time=Wed Apr 12 20:28:45 2023\n",
            "[xla:1](0) Loss=0.10181 Rate=34.67 GlobalRate=34.67 Time=Wed Apr 12 20:28:46 2023\n",
            "[xla:4](0) Loss=0.06213 Rate=32.15 GlobalRate=32.15 Time=Wed Apr 12 20:28:46 2023\n",
            "[xla:0](0) Loss=0.10834 Rate=32.23 GlobalRate=32.23 Time=Wed Apr 12 20:28:46 2023\n",
            "[xla:7](20) Loss=0.12421 Rate=252.01 GlobalRate=269.82 Time=Wed Apr 12 20:28:52 2023[xla:3](20) Loss=0.13637 Rate=244.87 GlobalRate=267.31 Time=Wed Apr 12 20:28:52 2023[xla:5](20) Loss=0.09965 Rate=245.15 GlobalRate=268.47 Time=Wed Apr 12 20:28:52 2023\n",
            "[xla:1](20) Loss=0.04874 Rate=258.46 GlobalRate=269.55 Time=Wed Apr 12 20:28:52 2023\n",
            "\n",
            "\n",
            "[xla:6](20) Loss=0.02515 Rate=236.67 GlobalRate=260.79 Time=Wed Apr 12 20:28:52 2023\n",
            "[xla:2](20) Loss=0.10151 Rate=232.58 GlobalRate=264.82 Time=Wed Apr 12 20:28:52 2023\n",
            "[xla:4](20) Loss=0.06748 Rate=256.17 GlobalRate=261.10 Time=Wed Apr 12 20:28:52 2023\n",
            "[xla:0](20) Loss=0.12105 Rate=251.84 GlobalRate=258.46 Time=Wed Apr 12 20:28:52 2023\n",
            "[xla:7](40) Loss=0.05018 Rate=309.09 GlobalRate=302.71 Time=Wed Apr 12 20:28:59 2023[xla:2](40) Loss=0.06082 Rate=309.42 GlobalRate=304.26 Time=Wed Apr 12 20:28:59 2023\n",
            "\n",
            "[xla:6](40) Loss=0.04768 Rate=303.96 GlobalRate=297.40 Time=Wed Apr 12 20:28:59 2023\n",
            "[xla:5](40) Loss=0.03566 Rate=297.06 GlobalRate=295.99 Time=Wed Apr 12 20:29:00 2023\n",
            "[xla:4](40) Loss=0.03041 Rate=306.04 GlobalRate=294.17 Time=Wed Apr 12 20:29:00 2023[xla:3](40) Loss=0.10184 Rate=292.89 GlobalRate=292.61 Time=Wed Apr 12 20:29:00 2023[xla:1](40) Loss=0.05883 Rate=302.49 GlobalRate=296.72 Time=Wed Apr 12 20:29:00 2023\n",
            "\n",
            "\n",
            "[xla:0](40) Loss=0.12971 Rate=305.11 GlobalRate=292.92 Time=Wed Apr 12 20:29:00 2023\n",
            "Finished training epoch 3\n",
            "[xla:4] Accuracy=98.14%\n",
            "[xla:1] Accuracy=98.13%\n",
            "[xla:3] Accuracy=98.17%\n",
            "[xla:0] Accuracy=98.15%[xla:7] Accuracy=98.15%\n",
            "\n",
            "[xla:6] Accuracy=98.12%\n",
            "[xla:2] Accuracy=98.12%\n",
            "[xla:5] Accuracy=98.16%\n",
            "[xla:4](0) Loss=0.05229 Rate=71.71 GlobalRate=71.71 Time=Wed Apr 12 20:29:36 2023\n",
            "[xla:1](0) Loss=0.07302 Rate=62.42 GlobalRate=62.42 Time=Wed Apr 12 20:29:36 2023[xla:6](0) Loss=0.07529 Rate=64.31 GlobalRate=64.31 Time=Wed Apr 12 20:29:36 2023\n",
            "\n",
            "[xla:0](0) Loss=0.09465 Rate=56.29 GlobalRate=56.29 Time=Wed Apr 12 20:29:37 2023\n",
            "[xla:3](0) Loss=0.05252 Rate=52.99 GlobalRate=52.99 Time=Wed Apr 12 20:29:37 2023\n",
            "[xla:2](0) Loss=0.10160 Rate=52.83 GlobalRate=52.83 Time=Wed Apr 12 20:29:37 2023[xla:7](0) Loss=0.09679 Rate=51.04 GlobalRate=51.04 Time=Wed Apr 12 20:29:37 2023\n",
            "\n",
            "[xla:5](0) Loss=0.05604 Rate=45.98 GlobalRate=45.98 Time=Wed Apr 12 20:29:37 2023\n",
            "[xla:4](20) Loss=0.04513 Rate=171.01 GlobalRate=213.72 Time=Wed Apr 12 20:29:46 2023[xla:6](20) Loss=0.01519 Rate=177.64 GlobalRate=222.13 Time=Wed Apr 12 20:29:46 2023[xla:0](20) Loss=0.10273 Rate=179.88 GlobalRate=223.35 Time=Wed Apr 12 20:29:46 2023[xla:3](20) Loss=0.11481 Rate=179.50 GlobalRate=221.81 Time=Wed Apr 12 20:29:46 2023\n",
            "\n",
            "[xla:1](20) Loss=0.03368 Rate=176.01 GlobalRate=219.97 Time=Wed Apr 12 20:29:46 2023\n",
            "\n",
            "\n",
            "[xla:2](20) Loss=0.07423 Rate=172.66 GlobalRate=214.01 Time=Wed Apr 12 20:29:47 2023[xla:7](20) Loss=0.10502 Rate=172.00 GlobalRate=212.64 Time=Wed Apr 12 20:29:47 2023\n",
            "\n",
            "[xla:5](20) Loss=0.08451 Rate=171.55 GlobalRate=209.79 Time=Wed Apr 12 20:29:47 2023\n",
            "[xla:4](40) Loss=0.02079 Rate=307.59 GlobalRate=276.23 Time=Wed Apr 12 20:29:53 2023[xla:6](40) Loss=0.03727 Rate=309.42 GlobalRate=282.99 Time=Wed Apr 12 20:29:53 2023\n",
            "\n",
            "[xla:3](40) Loss=0.08492 Rate=306.81 GlobalRate=281.33 Time=Wed Apr 12 20:29:53 2023\n",
            "[xla:1](40) Loss=0.04471 Rate=307.02 GlobalRate=280.47 Time=Wed Apr 12 20:29:53 2023\n",
            "[xla:7](40) Loss=0.04218 Rate=323.27 GlobalRate=280.98 Time=Wed Apr 12 20:29:53 2023\n",
            "[xla:0](40) Loss=0.11322 Rate=299.40 GlobalRate=279.33 Time=Wed Apr 12 20:29:53 2023\n",
            "[xla:5](40) Loss=0.02960 Rate=328.83 GlobalRate=280.41 Time=Wed Apr 12 20:29:53 2023[xla:2](40) Loss=0.05224 Rate=307.99 GlobalRate=276.38 Time=Wed Apr 12 20:29:53 2023\n",
            "\n",
            "Finished training epoch 4\n",
            "[xla:5] Accuracy=98.29%\n",
            "[xla:0] Accuracy=98.26%\n",
            "[xla:6] Accuracy=98.28%\n",
            "[xla:7] Accuracy=98.27%[xla:4] Accuracy=98.24%\n",
            "\n",
            "[xla:1] Accuracy=98.25%\n",
            "[xla:2] Accuracy=98.28%\n",
            "[xla:3] Accuracy=98.25%\n",
            "[xla:4](0) Loss=0.04624 Rate=65.63 GlobalRate=65.63 Time=Wed Apr 12 20:30:30 2023\n",
            "[xla:5](0) Loss=0.04384 Rate=61.85 GlobalRate=61.85 Time=Wed Apr 12 20:30:30 2023[xla:6](0) Loss=0.06068 Rate=62.65 GlobalRate=62.65 Time=Wed Apr 12 20:30:30 2023\n",
            "\n",
            "[xla:1](0) Loss=0.05453 Rate=61.12 GlobalRate=61.12 Time=Wed Apr 12 20:30:30 2023[xla:0](0) Loss=0.08002 Rate=57.83 GlobalRate=57.83 Time=Wed Apr 12 20:30:30 2023\n",
            "\n",
            "[xla:2](0) Loss=0.09643 Rate=52.75 GlobalRate=52.75 Time=Wed Apr 12 20:30:30 2023[xla:7](0) Loss=0.07968 Rate=51.37 GlobalRate=51.37 Time=Wed Apr 12 20:30:30 2023\n",
            "\n",
            "[xla:3](0) Loss=0.04191 Rate=45.64 GlobalRate=45.64 Time=Wed Apr 12 20:30:31 2023\n",
            "[xla:0](20) Loss=0.08682 Rate=220.01 GlobalRate=268.39 Time=Wed Apr 12 20:30:38 2023[xla:4](20) Loss=0.03282 Rate=216.86 GlobalRate=268.56 Time=Wed Apr 12 20:30:38 2023[xla:5](20) Loss=0.07404 Rate=218.12 GlobalRate=268.47 Time=Wed Apr 12 20:30:38 2023[xla:6](20) Loss=0.01040 Rate=218.92 GlobalRate=269.70 Time=Wed Apr 12 20:30:38 2023[xla:1](20) Loss=0.02675 Rate=221.82 GlobalRate=272.17 Time=Wed Apr 12 20:30:38 2023\n",
            "\n",
            "\n",
            "\n",
            "\n",
            "[xla:2](20) Loss=0.06506 Rate=219.81 GlobalRate=264.66 Time=Wed Apr 12 20:30:38 2023\n",
            "[xla:7](20) Loss=0.09099 Rate=209.18 GlobalRate=252.76 Time=Wed Apr 12 20:30:38 2023\n",
            "[xla:3](20) Loss=0.09839 Rate=204.00 GlobalRate=242.73 Time=Wed Apr 12 20:30:39 2023\n",
            "[xla:1](40) Loss=0.03674 Rate=259.11 GlobalRate=277.80 Time=Wed Apr 12 20:30:47 2023[xla:6](40) Loss=0.03132 Rate=257.91 GlobalRate=276.45 Time=Wed Apr 12 20:30:47 2023[xla:4](40) Loss=0.01540 Rate=258.10 GlobalRate=276.61 Time=Wed Apr 12 20:30:47 2023[xla:0](40) Loss=0.09798 Rate=258.59 GlobalRate=275.93 Time=Wed Apr 12 20:30:47 2023[xla:5](40) Loss=0.02557 Rate=257.67 GlobalRate=275.85 Time=Wed Apr 12 20:30:47 2023\n",
            "\n",
            "\n",
            "\n",
            "\n",
            "[xla:2](40) Loss=0.04870 Rate=262.07 GlobalRate=276.56 Time=Wed Apr 12 20:30:47 2023\n",
            "[xla:7](40) Loss=0.03719 Rate=260.85 GlobalRate=271.87 Time=Wed Apr 12 20:30:47 2023\n",
            "[xla:3](40) Loss=0.07448 Rate=262.90 GlobalRate=268.50 Time=Wed Apr 12 20:30:47 2023\n",
            "Finished training epoch 5\n",
            "[xla:7] Accuracy=98.46%\n",
            "[xla:2] Accuracy=98.46%\n",
            "[xla:6] Accuracy=98.49%\n",
            "[xla:5] Accuracy=98.49%\n",
            "[xla:0] Accuracy=98.46%[xla:1] Accuracy=98.49%\n",
            "\n",
            "[xla:3] Accuracy=98.44%\n",
            "[xla:4] Accuracy=98.43%\n",
            "[xla:7](0) Loss=0.06993 Rate=44.28 GlobalRate=44.28 Time=Wed Apr 12 20:31:25 2023\n",
            "[xla:6](0) Loss=0.05227 Rate=37.99 GlobalRate=37.99 Time=Wed Apr 12 20:31:26 2023[xla:2](0) Loss=0.09209 Rate=35.28 GlobalRate=35.28 Time=Wed Apr 12 20:31:26 2023[xla:0](0) Loss=0.06958 Rate=38.64 GlobalRate=38.64 Time=Wed Apr 12 20:31:26 2023\n",
            "[xla:5](0) Loss=0.03645 Rate=37.14 GlobalRate=37.14 Time=Wed Apr 12 20:31:26 2023\n",
            "\n",
            "\n",
            "[xla:3](0) Loss=0.03450 Rate=37.55 GlobalRate=37.55 Time=Wed Apr 12 20:31:27 2023\n",
            "[xla:1](0) Loss=0.04259 Rate=35.01 GlobalRate=35.01 Time=Wed Apr 12 20:31:27 2023\n",
            "[xla:4](0) Loss=0.04336 Rate=34.19 GlobalRate=34.19 Time=Wed Apr 12 20:31:27 2023\n",
            "[xla:7](20) Loss=0.07744 Rate=225.42 GlobalRate=261.33 Time=Wed Apr 12 20:31:33 2023\n",
            "[xla:2](20) Loss=0.05634 Rate=249.98 GlobalRate=265.08 Time=Wed Apr 12 20:31:33 2023\n",
            "[xla:3](20) Loss=0.08432 Rate=248.70 GlobalRate=269.30 Time=Wed Apr 12 20:31:33 2023\n",
            "[xla:1](20) Loss=0.02338 Rate=246.88 GlobalRate=262.19 Time=Wed Apr 12 20:31:33 2023[xla:0](20) Loss=0.07740 Rate=242.31 GlobalRate=266.58 Time=Wed Apr 12 20:31:33 2023\n",
            "[xla:6](20) Loss=0.00792 Rate=238.26 GlobalRate=262.12 Time=Wed Apr 12 20:31:33 2023\n",
            "\n",
            "[xla:5](20) Loss=0.06849 Rate=236.18 GlobalRate=258.81 Time=Wed Apr 12 20:31:33 2023\n",
            "[xla:4](20) Loss=0.02550 Rate=249.88 GlobalRate=262.34 Time=Wed Apr 12 20:31:34 2023\n",
            "[xla:7](40) Loss=0.03055 Rate=257.47 GlobalRate=269.59 Time=Wed Apr 12 20:31:42 2023\n",
            "[xla:1](40) Loss=0.03005 Rate=269.83 GlobalRate=272.90 Time=Wed Apr 12 20:31:42 2023[xla:5](40) Loss=0.02269 Rate=268.59 GlobalRate=273.22 Time=Wed Apr 12 20:31:42 2023\n",
            "\n",
            "[xla:2](40) Loss=0.04676 Rate=262.53 GlobalRate=267.89 Time=Wed Apr 12 20:31:42 2023\n",
            "[xla:3](40) Loss=0.06560 Rate=258.02 GlobalRate=266.80 Time=Wed Apr 12 20:31:43 2023[xla:4](40) Loss=0.01206 Rate=267.05 GlobalRate=269.98 Time=Wed Apr 12 20:31:43 2023[xla:6](40) Loss=0.02686 Rate=256.93 GlobalRate=265.61 Time=Wed Apr 12 20:31:43 2023\n",
            "\n",
            "\n",
            "[xla:0](40) Loss=0.08563 Rate=254.24 GlobalRate=264.42 Time=Wed Apr 12 20:31:43 2023\n",
            "Finished training epoch 6\n",
            "[xla:3] Accuracy=98.49%\n",
            "[xla:6] Accuracy=98.52%\n",
            "[xla:2] Accuracy=98.50%\n",
            "[xla:1] Accuracy=98.53%[xla:7] Accuracy=98.54%\n",
            "\n",
            "[xla:0] Accuracy=98.51%\n",
            "[xla:5] Accuracy=98.56%[xla:4] Accuracy=98.51%\n",
            "\n",
            "[xla:6](0) Loss=0.04628 Rate=42.55 GlobalRate=42.51 Time=Wed Apr 12 20:32:21 2023\n",
            "[xla:3](0) Loss=0.02859 Rate=36.93 GlobalRate=36.93 Time=Wed Apr 12 20:32:21 2023\n",
            "[xla:2](0) Loss=0.08793 Rate=34.35 GlobalRate=34.35 Time=Wed Apr 12 20:32:22 2023\n",
            "[xla:1](0) Loss=0.03546 Rate=34.62 GlobalRate=34.62 Time=Wed Apr 12 20:32:22 2023\n",
            "[xla:7](0) Loss=0.06155 Rate=33.09 GlobalRate=33.09 Time=Wed Apr 12 20:32:23 2023\n",
            "[xla:0](0) Loss=0.06272 Rate=29.93 GlobalRate=29.93 Time=Wed Apr 12 20:32:23 2023\n",
            "[xla:5](0) Loss=0.02997 Rate=30.27 GlobalRate=30.27 Time=Wed Apr 12 20:32:24 2023\n",
            "[xla:4](0) Loss=0.04087 Rate=29.21 GlobalRate=29.21 Time=Wed Apr 12 20:32:24 2023\n",
            "[xla:3](20) Loss=0.07414 Rate=201.48 GlobalRate=229.88 Time=Wed Apr 12 20:32:29 2023[xla:2](20) Loss=0.05056 Rate=230.09 GlobalRate=248.28 Time=Wed Apr 12 20:32:29 2023[xla:6](20) Loss=0.00614 Rate=199.34 GlobalRate=235.11 Time=Wed Apr 12 20:32:29 2023[xla:7](20) Loss=0.06653 Rate=236.31 GlobalRate=249.96 Time=Wed Apr 12 20:32:30 2023\n",
            "\n",
            "\n",
            "\n",
            "[xla:1](20) Loss=0.01990 Rate=223.57 GlobalRate=243.90 Time=Wed Apr 12 20:32:30 2023\n",
            "[xla:0](20) Loss=0.06934 Rate=236.60 GlobalRate=241.84 Time=Wed Apr 12 20:32:30 2023\n",
            "[xla:4](20) Loss=0.02067 Rate=244.00 GlobalRate=244.49 Time=Wed Apr 12 20:32:30 2023\n",
            "[xla:5](20) Loss=0.05929 Rate=236.21 GlobalRate=242.55 Time=Wed Apr 12 20:32:30 2023\n",
            "[xla:7](40) Loss=0.02612 Rate=266.54 GlobalRate=266.62 Time=Wed Apr 12 20:32:38 2023[xla:2](40) Loss=0.04594 Rate=264.09 GlobalRate=265.67 Time=Wed Apr 12 20:32:38 2023[xla:6](40) Loss=0.02362 Rate=251.51 GlobalRate=257.57 Time=Wed Apr 12 20:32:38 2023[xla:3](40) Loss=0.05988 Rate=251.91 GlobalRate=254.04 Time=Wed Apr 12 20:32:38 2023\n",
            "\n",
            "\n",
            "\n",
            "[xla:1](40) Loss=0.02580 Rate=258.82 GlobalRate=261.24 Time=Wed Apr 12 20:32:39 2023\n",
            "[xla:0](40) Loss=0.07906 Rate=266.37 GlobalRate=261.63 Time=Wed Apr 12 20:32:39 2023\n",
            "[xla:5](40) Loss=0.01941 Rate=260.95 GlobalRate=258.40 Time=Wed Apr 12 20:32:40 2023[xla:4](40) Loss=0.00960 Rate=261.86 GlobalRate=257.94 Time=Wed Apr 12 20:32:40 2023\n",
            "\n",
            "Finished training epoch 7\n",
            "[xla:0] Accuracy=98.71%\n",
            "[xla:5] Accuracy=98.68%\n",
            "[xla:2] Accuracy=98.72%[xla:7] Accuracy=98.71%[xla:3] Accuracy=98.66%\n",
            "\n",
            "\n",
            "[xla:6] Accuracy=98.69%\n",
            "[xla:4] Accuracy=98.72%\n",
            "[xla:1] Accuracy=98.70%\n",
            "[xla:5](0) Loss=0.02354 Rate=45.27 GlobalRate=45.27 Time=Wed Apr 12 20:33:18 2023\n",
            "[xla:0](0) Loss=0.05428 Rate=39.40 GlobalRate=39.40 Time=Wed Apr 12 20:33:18 2023\n",
            "[xla:7](0) Loss=0.05824 Rate=38.21 GlobalRate=38.21 Time=Wed Apr 12 20:33:18 2023[xla:2](0) Loss=0.08453 Rate=39.15 GlobalRate=39.15 Time=Wed Apr 12 20:33:19 2023\n",
            "\n",
            "[xla:6](0) Loss=0.03952 Rate=37.60 GlobalRate=37.60 Time=Wed Apr 12 20:33:19 2023[xla:3](0) Loss=0.02395 Rate=36.04 GlobalRate=36.04 Time=Wed Apr 12 20:33:19 2023\n",
            "\n",
            "[xla:4](0) Loss=0.03828 Rate=34.31 GlobalRate=34.31 Time=Wed Apr 12 20:33:19 2023\n",
            "[xla:1](0) Loss=0.02995 Rate=28.91 GlobalRate=28.91 Time=Wed Apr 12 20:33:21 2023\n",
            "[xla:4](20) Loss=0.01777 Rate=225.24 GlobalRate=244.53 Time=Wed Apr 12 20:33:26 2023[xla:6](20) Loss=0.00497 Rate=215.13 GlobalRate=242.59 Time=Wed Apr 12 20:33:26 2023[xla:5](20) Loss=0.05133 Rate=198.99 GlobalRate=237.47 Time=Wed Apr 12 20:33:26 2023[xla:2](20) Loss=0.04775 Rate=207.97 GlobalRate=238.80 Time=Wed Apr 12 20:33:26 2023[xla:0](20) Loss=0.06087 Rate=198.89 GlobalRate=231.00 Time=Wed Apr 12 20:33:26 2023[xla:7](20) Loss=0.05864 Rate=206.04 GlobalRate=235.75 Time=Wed Apr 12 20:33:26 2023[xla:3](20) Loss=0.06657 Rate=214.26 GlobalRate=239.20 Time=Wed Apr 12 20:33:26 2023\n",
            "\n",
            "\n",
            "\n",
            "\n",
            "\n",
            "\n",
            "[xla:1](20) Loss=0.01690 Rate=242.51 GlobalRate=242.63 Time=Wed Apr 12 20:33:27 2023\n",
            "[xla:5](40) Loss=0.01735 Rate=277.13 GlobalRate=274.84 Time=Wed Apr 12 20:33:34 2023[xla:7](40) Loss=0.02120 Rate=279.77 GlobalRate=273.55 Time=Wed Apr 12 20:33:34 2023[xla:3](40) Loss=0.05461 Rate=283.10 GlobalRate=275.94 Time=Wed Apr 12 20:33:34 2023[xla:2](40) Loss=0.04568 Rate=280.30 GlobalRate=275.50 Time=Wed Apr 12 20:33:34 2023[xla:4](40) Loss=0.00850 Rate=287.06 GlobalRate=279.28 Time=Wed Apr 12 20:33:34 2023[xla:6](40) Loss=0.02180 Rate=283.52 GlobalRate=278.28 Time=Wed Apr 12 20:33:34 2023[xla:0](40) Loss=0.07063 Rate=277.04 GlobalRate=270.32 Time=Wed Apr 12 20:33:34 2023\n",
            "\n",
            "\n",
            "\n",
            "\n",
            "\n",
            "\n",
            "[xla:1](40) Loss=0.02034 Rate=286.52 GlobalRate=273.57 Time=Wed Apr 12 20:33:35 2023\n",
            "Finished training epoch 8\n",
            "[xla:0] Accuracy=98.69%[xla:7] Accuracy=98.71%\n",
            "\n",
            "[xla:1] Accuracy=98.69%[xla:6] Accuracy=98.71%[xla:3] Accuracy=98.68%\n",
            "\n",
            "[xla:5] Accuracy=98.71%\n",
            "[xla:4] Accuracy=98.71%\n",
            "\n",
            "[xla:2] Accuracy=98.72%\n",
            "[xla:5](0) Loss=0.01906 Rate=61.74 GlobalRate=61.74 Time=Wed Apr 12 20:34:14 2023\n",
            "[xla:1](0) Loss=0.02682 Rate=56.09 GlobalRate=56.09 Time=Wed Apr 12 20:34:15 2023\n",
            "[xla:7](0) Loss=0.05367 Rate=51.71 GlobalRate=51.71 Time=Wed Apr 12 20:34:15 2023\n",
            "[xla:0](0) Loss=0.04794 Rate=47.93 GlobalRate=47.93 Time=Wed Apr 12 20:34:15 2023\n",
            "[xla:3](0) Loss=0.01923 Rate=39.46 GlobalRate=39.46 Time=Wed Apr 12 20:34:16 2023[xla:4](0) Loss=0.03429 Rate=39.85 GlobalRate=39.85 Time=Wed Apr 12 20:34:16 2023[xla:6](0) Loss=0.03581 Rate=39.31 GlobalRate=39.31 Time=Wed Apr 12 20:34:16 2023\n",
            "\n",
            "\n",
            "[xla:2](0) Loss=0.08054 Rate=35.80 GlobalRate=35.80 Time=Wed Apr 12 20:34:16 2023\n",
            "[xla:5](20) Loss=0.04402 Rate=176.01 GlobalRate=219.88 Time=Wed Apr 12 20:34:25 2023[xla:7](20) Loss=0.05335 Rate=177.00 GlobalRate=218.51 Time=Wed Apr 12 20:34:25 2023[xla:1](20) Loss=0.01481 Rate=176.25 GlobalRate=219.11 Time=Wed Apr 12 20:34:25 2023\n",
            "\n",
            "\n",
            "[xla:0](20) Loss=0.05623 Rate=175.23 GlobalRate=214.82 Time=Wed Apr 12 20:34:25 2023\n",
            "[xla:6](20) Loss=0.00411 Rate=176.69 GlobalRate=210.02 Time=Wed Apr 12 20:34:25 2023\n",
            "[xla:4](20) Loss=0.01570 Rate=173.96 GlobalRate=207.85 Time=Wed Apr 12 20:34:25 2023\n",
            "[xla:3](20) Loss=0.06177 Rate=173.40 GlobalRate=206.94 Time=Wed Apr 12 20:34:25 2023\n",
            "[xla:2](20) Loss=0.04405 Rate=176.38 GlobalRate=205.92 Time=Wed Apr 12 20:34:26 2023\n",
            "[xla:5](40) Loss=0.01556 Rate=302.46 GlobalRate=278.50 Time=Wed Apr 12 20:34:31 2023[xla:7](40) Loss=0.01806 Rate=302.97 GlobalRate=277.41 Time=Wed Apr 12 20:34:31 2023[xla:0](40) Loss=0.06391 Rate=309.17 GlobalRate=277.12 Time=Wed Apr 12 20:34:31 2023\n",
            "\n",
            "\n",
            "[xla:1](40) Loss=0.01722 Rate=296.78 GlobalRate=275.40 Time=Wed Apr 12 20:34:31 2023\n",
            "[xla:6](40) Loss=0.02038 Rate=304.68 GlobalRate=271.04 Time=Wed Apr 12 20:34:32 2023[xla:4](40) Loss=0.00715 Rate=309.93 GlobalRate=271.59 Time=Wed Apr 12 20:34:32 2023\n",
            "\n",
            "[xla:2](40) Loss=0.04235 Rate=315.57 GlobalRate=271.60 Time=Wed Apr 12 20:34:32 2023\n",
            "[xla:3](40) Loss=0.05076 Rate=297.39 GlobalRate=266.06 Time=Wed Apr 12 20:34:32 2023\n",
            "Finished training epoch 9\n",
            "[xla:2] Accuracy=98.71%[xla:6] Accuracy=98.71%\n",
            "\n",
            "[xla:7] Accuracy=98.72%\n",
            "[xla:3] Accuracy=98.70%[xla:4] Accuracy=98.71%[xla:5] Accuracy=98.71%[xla:1] Accuracy=98.69%[xla:0] Accuracy=98.71%\n",
            "\n",
            "\n",
            "\n",
            "\n",
            "[xla:7](0) Loss=0.05088 Rate=74.73 GlobalRate=74.73 Time=Wed Apr 12 20:35:08 2023\n",
            "[xla:3](0) Loss=0.01758 Rate=64.32 GlobalRate=64.32 Time=Wed Apr 12 20:35:09 2023[xla:2](0) Loss=0.07430 Rate=60.49 GlobalRate=60.49 Time=Wed Apr 12 20:35:09 2023\n",
            "\n",
            "[xla:6](0) Loss=0.03273 Rate=54.38 GlobalRate=54.38 Time=Wed Apr 12 20:35:09 2023[xla:5](0) Loss=0.01623 Rate=56.50 GlobalRate=56.50 Time=Wed Apr 12 20:35:09 2023\n",
            "[xla:1](0) Loss=0.02432 Rate=56.24 GlobalRate=56.24 Time=Wed Apr 12 20:35:09 2023\n",
            "\n",
            "[xla:4](0) Loss=0.03257 Rate=52.63 GlobalRate=52.63 Time=Wed Apr 12 20:35:09 2023\n",
            "[xla:0](0) Loss=0.04212 Rate=49.29 GlobalRate=49.29 Time=Wed Apr 12 20:35:10 2023\n",
            "[xla:7](20) Loss=0.04710 Rate=223.17 GlobalRate=278.26 Time=Wed Apr 12 20:35:16 2023\n",
            "[xla:3](20) Loss=0.05465 Rate=219.23 GlobalRate=270.75 Time=Wed Apr 12 20:35:17 2023\n",
            "[xla:2](20) Loss=0.03903 Rate=214.11 GlobalRate=263.43 Time=Wed Apr 12 20:35:17 2023[xla:6](20) Loss=0.00350 Rate=214.33 GlobalRate=260.22 Time=Wed Apr 12 20:35:17 2023\n",
            "\n",
            "[xla:1](20) Loss=0.01260 Rate=211.42 GlobalRate=258.30 Time=Wed Apr 12 20:35:17 2023[xla:5](20) Loss=0.03739 Rate=208.74 GlobalRate=255.57 Time=Wed Apr 12 20:35:17 2023\n",
            "\n",
            "[xla:0](20) Loss=0.05093 Rate=210.12 GlobalRate=252.06 Time=Wed Apr 12 20:35:18 2023\n",
            "[xla:4](20) Loss=0.01410 Rate=202.10 GlobalRate=246.24 Time=Wed Apr 12 20:35:18 2023\n",
            "[xla:3](40) Loss=0.04747 Rate=257.74 GlobalRate=276.79 Time=Wed Apr 12 20:35:26 2023[xla:7](40) Loss=0.01586 Rate=251.96 GlobalRate=274.75 Time=Wed Apr 12 20:35:26 2023\n",
            "[xla:1](40) Loss=0.01472 Rate=264.26 GlobalRate=276.88 Time=Wed Apr 12 20:35:26 2023[xla:6](40) Loss=0.01875 Rate=261.08 GlobalRate=274.91 Time=Wed Apr 12 20:35:26 2023\n",
            "\n",
            "\n",
            "[xla:2](40) Loss=0.04028 Rate=255.68 GlobalRate=272.80 Time=Wed Apr 12 20:35:26 2023[xla:4](40) Loss=0.00637 Rate=268.18 GlobalRate=274.55 Time=Wed Apr 12 20:35:26 2023\n",
            "\n",
            "[xla:5](40) Loss=0.01431 Rate=254.96 GlobalRate=269.47 Time=Wed Apr 12 20:35:26 2023\n",
            "[xla:0](40) Loss=0.05691 Rate=252.01 GlobalRate=264.93 Time=Wed Apr 12 20:35:27 2023\n",
            "Finished training epoch 10\n",
            "[xla:6] Accuracy=98.80%[xla:0] Accuracy=98.80%[xla:5] Accuracy=98.80%[xla:3] Accuracy=98.80%\n",
            "\n",
            "\n",
            "[xla:7] Accuracy=98.81%\n",
            "\n",
            "[xla:2] Accuracy=98.80%[xla:1] Accuracy=98.81%\n",
            "\n",
            "[xla:4] Accuracy=98.79%\n"
          ]
        }
      ],
      "source": [
        "# Start training processes\n",
        "def _mp_fn(rank, flags):\n",
        "  global FLAGS\n",
        "  FLAGS = flags\n",
        "  torch.set_default_tensor_type('torch.FloatTensor')\n",
        "  accuracy, data, pred, target = train_mnist()\n",
        "  if rank == 0:\n",
        "    # Retrieve tensors that are on TPU core 0 and plot.\n",
        "    plot_results(data.cpu(), pred.cpu(), target.cpu())\n",
        "\n",
        "xmp.spawn(_mp_fn, args=(FLAGS,), nprocs=FLAGS['num_cores'],\n",
        "          start_method='fork')"
      ]
    },
    {
      "cell_type": "markdown",
      "metadata": {
        "id": "MznTE72_mthI"
      },
      "source": [
        "## Visualize Predictions"
      ]
    },
    {
      "cell_type": "code",
      "execution_count": 8,
      "metadata": {
        "colab": {
          "base_uri": "https://localhost:8080/",
          "height": 732
        },
        "id": "X9VAwyUnI7Sb",
        "outputId": "8b698c6e-11c5-437e-ab06-421694e6715f"
      },
      "outputs": [
        {
          "output_type": "display_data",
          "data": {
            "text/plain": [
              "<PIL.Image.Image image mode=RGBA size=1100x900 at 0x7FD0740C6280>"
            ],
            "image/png": "[encoded data removed]"
          },
          "metadata": {}
        }
      ],
      "source": [
        "from google.colab.patches import cv2_imshow\n",
        "import cv2\n",
        "img = cv2.imread(RESULT_IMG_PATH, cv2.IMREAD_UNCHANGED)\n",
        "cv2_imshow(img)"
      ]
    },
    {
      "cell_type": "code",
      "source": [],
      "metadata": {
        "id": "aBjgpaFRMi-5"
      },
      "execution_count": null,
      "outputs": []
    }
  ],
  "metadata": {
    "accelerator": "TPU",
    "colab": {
      "machine_shape": "hm",
      "name": "PyTorch/TPU MNIST Training",
      "provenance": []
    },
    "kernelspec": {
      "display_name": "Python 3 (ipykernel)",
      "language": "python",
      "name": "python3"
    },
    "language_info": {
      "codemirror_mode": {
        "name": "ipython",
        "version": 3
      },
      "file_extension": ".py",
      "mimetype": "text/x-python",
      "name": "python",
      "nbconvert_exporter": "python",
      "pygments_lexer": "ipython3",
      "version": "3.10.9"
    },
    "gpuClass": "standard"
  },
  "nbformat": 4,
  "nbformat_minor": 0
}